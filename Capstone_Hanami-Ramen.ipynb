{
 "cells": [
  {
   "cell_type": "markdown",
   "metadata": {},
   "source": [
    "## Table of contents\n",
    "* [Introduction](#introduction)\n",
    "* [Data](#data)\n",
    "* [Methodology](#methodology)\n",
    "* [Analysis](#analysis)\n",
    "* [Results and Discussion](#results)\n",
    "* [Conclusion](#conclusion)"
   ]
  },
  {
   "cell_type": "markdown",
   "metadata": {},
   "source": [
    "## Introduction  <a name=\"introduction\"></a>"
   ]
  },
  {
   "cell_type": "markdown",
   "metadata": {},
   "source": [
    "Hanami (花見 , \"flower viewing\") is the traditional custom of viewing and enjoying the beauty of flowers, mainly cherry blossoms, and springtime in Japan. Each year the \"cherry blossom front\", the advance of blooming of cherry blossoms across Japan, is tracked as it slowly moves northward. The front generally indicates the opening of the first blossoms (kaika) rather than the arrival of full bloom (mankai). Forecasts for the cherry blossom front by weather services across Japan are closely followed by those who wish to enjoy hanami as the blossoms only last for one to two weeks. \n",
    "\n",
    "To enjoy Hanami, one can admire from a distance in which the cherry blossoms have been described as appearing as beautiful clouds, have a picnic under the blooming trees, or take a nice stroll in a park after enjoying a bowl of Ramen. \n",
    "\n",
    "While the exact origins of ramen noodles is up to debate (Japan or China origin), what is not up for debate is how Ramen shops across Japan have really made Ramen their own. As the name suggest, Ramen shops specialize in ramen dishes. Ramen in simple terms are wheat-flour noodles served in broth. But Ramen is anything but simple. With over more than 10,000 ramen shops in Japan[@1], each shop provides a different take on the dish of Ramen. \n",
    "\n",
    "In this project, we will try to find the best city in Japan in which to enjoy both Hanami and Ramen during **the month of April**. Best in this instance, refers to how easily a person can travel to the city (i.e **promixity to train station or ferry**), **Hanami spots**, and **Ramen shops**."
   ]
  },
  {
   "cell_type": "markdown",
   "metadata": {},
   "source": [
    "## Data  <a name=\"data\"></a>\n",
    "\n",
    "With the criteria mention in the Introduction, factors that will influence our decision are:\n",
    "* Timing of cherry blossoming in the city\n",
    "* Proximity to a train station or ferry\n",
    "* Cherry Blossom viewing spots (Hanami) spots, if any\n",
    "* Ramen shops located within a city\n",
    "\n",
    "Following data sources will be needed to extract/generate the required information:\n",
    "* Cherry Blossoms Forecast Data and Average Cherry Blossoms blooming dates using data gathered from- [https://japan-guide.com/sakura](https://japan-guide.com/sakura)\n",
    "* Cherry Blossom viewing Spots using data gathered from [https://www.japan-guide.com/e/e2011_where.html](https://www.japan-guide.com/e/e2011_where.html)\n",
    "* Train stations or ferry location obtain using the **Foursquare API**\n",
    "* Number of Ramen shops and their location in every city obtained using **Foursquare API**\n",
    "\n",
    "With the data collected, we hope to find a city or cities that will be able satisfy a persons needs of enjoying the beauty of cherry blossoms and a bowl of delicious Ramen while being able to hop on a train or a ferry then a train. "
   ]
  },
  {
   "cell_type": "markdown",
   "metadata": {},
   "source": [
    "### Average Cherry Blossoms blooming dates\n",
    "\n",
    "Let's begin by obtaining the typical timing for the blooming of cherry blossoms in cities across Japan. \n",
    "\n",
    "We can obtain Average Cherry Blossoms blooming dates [`average_Blooming`] from [https://www.japan-guide.com/e/e2011_when.html](https://www.japan-guide.com/e/e2011_when.html).\n",
    "\n",
    "The data is contained within a table on the webpage, meaning the data can be read directly into a pandas dataframe."
   ]
  },
  {
   "cell_type": "code",
   "execution_count": 1,
   "metadata": {},
   "outputs": [
    {
     "name": "stdout",
     "output_type": "stream",
     "text": [
      "Number of cities in table: 20\n"
     ]
    },
    {
     "data": {
      "text/html": [
       "<div>\n",
       "<style scoped>\n",
       "    .dataframe tbody tr th:only-of-type {\n",
       "        vertical-align: middle;\n",
       "    }\n",
       "\n",
       "    .dataframe tbody tr th {\n",
       "        vertical-align: top;\n",
       "    }\n",
       "\n",
       "    .dataframe thead th {\n",
       "        text-align: right;\n",
       "    }\n",
       "</style>\n",
       "<table border=\"1\" class=\"dataframe\">\n",
       "  <thead>\n",
       "    <tr style=\"text-align: right;\">\n",
       "      <th></th>\n",
       "      <th>City</th>\n",
       "      <th>Average Opening</th>\n",
       "      <th>Average Full Bloom</th>\n",
       "    </tr>\n",
       "  </thead>\n",
       "  <tbody>\n",
       "    <tr>\n",
       "      <th>0</th>\n",
       "      <td>Sapporo</td>\n",
       "      <td>May 3</td>\n",
       "      <td>May 7</td>\n",
       "    </tr>\n",
       "    <tr>\n",
       "      <th>1</th>\n",
       "      <td>Hakodate</td>\n",
       "      <td>April 30</td>\n",
       "      <td>May 4</td>\n",
       "    </tr>\n",
       "    <tr>\n",
       "      <th>2</th>\n",
       "      <td>Hirosaki</td>\n",
       "      <td>April 23</td>\n",
       "      <td>April 28</td>\n",
       "    </tr>\n",
       "    <tr>\n",
       "      <th>3</th>\n",
       "      <td>Sendai</td>\n",
       "      <td>April 11</td>\n",
       "      <td>April 16</td>\n",
       "    </tr>\n",
       "    <tr>\n",
       "      <th>4</th>\n",
       "      <td>Tokyo</td>\n",
       "      <td>March 26</td>\n",
       "      <td>April 3</td>\n",
       "    </tr>\n",
       "  </tbody>\n",
       "</table>\n",
       "</div>"
      ],
      "text/plain": [
       "       City Average Opening Average Full Bloom\n",
       "0   Sapporo           May 3              May 7\n",
       "1  Hakodate        April 30              May 4\n",
       "2  Hirosaki        April 23           April 28\n",
       "3    Sendai        April 11           April 16\n",
       "4     Tokyo        March 26            April 3"
      ]
     },
     "execution_count": 1,
     "metadata": {},
     "output_type": "execute_result"
    }
   ],
   "source": [
    "import pandas as pd \n",
    "pd.set_option('display.max_colwidth', None)\n",
    "\n",
    "averageBlooming_df = pd.read_html('https://www.japan-guide.com/e/e2011_when.html', header=0)[0]\n",
    "print(f'Number of cities in table: {averageBlooming_df.shape[0]}')\n",
    "averageBlooming_df.head()"
   ]
  },
  {
   "cell_type": "markdown",
   "metadata": {},
   "source": [
    "### Cherry Blossoms Forecast across Japan\n",
    "\n",
    "Next, let's grab Cherry Blossoms Forecast for cities across Japan. Forecast data can be found on [japan-guide.com/sakura](japan-guide.com/sakura). Forecast data on this site is provided by the [Japan Weather Association](https://www.jwa.or.jp/english/). \n",
    "\n",
    "The forecast data for the cities are located within five different tables. Each table is for a differect region of Japan. To scrap the name of each table (Region), a BeautifulSoup object will be created. [Data for project was scraped on April 05,2021]"
   ]
  },
  {
   "cell_type": "code",
   "execution_count": 2,
   "metadata": {},
   "outputs": [],
   "source": [
    "import os\n",
    "from bs4 import BeautifulSoup as BS\n",
    "import requests\n",
    "\n",
    "def get_html_soup(html_page, scrap=0):\n",
    "    html_file = \"{}.html\".format(html_page.strip('https://www.').replace('/','-'))\n",
    "    if os.path.exists(html_file):\n",
    "        with open(html_file, 'rb') as html:\n",
    "            html_content = html.read()\n",
    "    else:\n",
    "        html_content = requests.get(html_page).text\n",
    "        with open(html_file, 'wb') as file: #writes as binary file\n",
    "            page = bytes(html_response, 'utf-8')\n",
    "            file.write(page)\n",
    "    soup = BS(html_content, 'lxml')\n",
    "    return soup"
   ]
  },
  {
   "cell_type": "code",
   "execution_count": 3,
   "metadata": {},
   "outputs": [
    {
     "data": {
      "text/plain": [
       "['Major Cities',\n",
       " 'Kyushu, Shikoku and Chugoku',\n",
       " 'Kansai',\n",
       " 'Kanto and Chubu',\n",
       " 'Tohoku and Hokkaido']"
      ]
     },
     "execution_count": 3,
     "metadata": {},
     "output_type": "execute_result"
    }
   ],
   "source": [
    "cherryForecast_soup = get_html_soup(\"https://www.japan-guide.com/sakura/\")\n",
    "cherryForecast_table_titles = [title.text for title in cherryForecast_soup.select(\".season_forecast__region_name\")]\n",
    "cherryForecast_table_titles"
   ]
  },
  {
   "cell_type": "markdown",
   "metadata": {},
   "source": [
    "As before, pandas will be used to scrap the tables. Due to there being more than one table, pandas will create a list of dataframes when using `pd.read_html`."
   ]
  },
  {
   "cell_type": "code",
   "execution_count": 4,
   "metadata": {},
   "outputs": [
    {
     "name": "stdout",
     "output_type": "stream",
     "text": [
      "Number of dataframes within cherryForecast_data list: 5\n"
     ]
    }
   ],
   "source": [
    "cherryForecast_data = pd.read_html(str(cherryForecast_soup))\n",
    "print(f'Number of dataframes within cherryForecast_data list: {len(cherryForecast_data)}')"
   ]
  },
  {
   "cell_type": "markdown",
   "metadata": {},
   "source": [
    "#### Data Cleaning\n",
    "\n",
    "The first Forecast table,`Major Cities`, will be ignored due to being redundant with these cities also being found within the remaining regional Forecast tables.\n",
    "\n",
    "The corresponding region name will be associated with each city. \n",
    "\n",
    "All the regional Forecast tables, not the `Major Cities` table, will be combined into one Dataframe, [`cherryForecast_df`].\n",
    "\n",
    "A bit of cleaning of the column titles will be conducted as well. "
   ]
  },
  {
   "cell_type": "code",
   "execution_count": 5,
   "metadata": {
    "tags": []
   },
   "outputs": [
    {
     "name": "stdout",
     "output_type": "stream",
     "text": [
      "The number of cities with forecasts: 23.\n"
     ]
    },
    {
     "data": {
      "text/html": [
       "<div>\n",
       "<style scoped>\n",
       "    .dataframe tbody tr th:only-of-type {\n",
       "        vertical-align: middle;\n",
       "    }\n",
       "\n",
       "    .dataframe tbody tr th {\n",
       "        vertical-align: top;\n",
       "    }\n",
       "\n",
       "    .dataframe thead th {\n",
       "        text-align: right;\n",
       "    }\n",
       "</style>\n",
       "<table border=\"1\" class=\"dataframe\">\n",
       "  <thead>\n",
       "    <tr style=\"text-align: right;\">\n",
       "      <th></th>\n",
       "      <th>City</th>\n",
       "      <th>Est_Opening</th>\n",
       "      <th>Est_Best_Viewing</th>\n",
       "      <th>Current_State</th>\n",
       "      <th>Region</th>\n",
       "    </tr>\n",
       "  </thead>\n",
       "  <tbody>\n",
       "    <tr>\n",
       "      <th>0</th>\n",
       "      <td>Fukuoka</td>\n",
       "      <td>Opened: March 12</td>\n",
       "      <td>March 20 to 28</td>\n",
       "      <td>End of Season</td>\n",
       "      <td>Kyushu, Shikoku and Chugoku</td>\n",
       "    </tr>\n",
       "    <tr>\n",
       "      <th>1</th>\n",
       "      <td>Kumamoto</td>\n",
       "      <td>Opened: March 17</td>\n",
       "      <td>March 22 to 28</td>\n",
       "      <td>End of Season</td>\n",
       "      <td>Kyushu, Shikoku and Chugoku</td>\n",
       "    </tr>\n",
       "    <tr>\n",
       "      <th>2</th>\n",
       "      <td>Hiroshima</td>\n",
       "      <td>Opened: March 11</td>\n",
       "      <td>March 24 to April 1</td>\n",
       "      <td>End of Season</td>\n",
       "      <td>Kyushu, Shikoku and Chugoku</td>\n",
       "    </tr>\n",
       "    <tr>\n",
       "      <th>3</th>\n",
       "      <td>Matsuyama</td>\n",
       "      <td>Opened: March 15</td>\n",
       "      <td>March 24 to 31</td>\n",
       "      <td>End of Season</td>\n",
       "      <td>Kyushu, Shikoku and Chugoku</td>\n",
       "    </tr>\n",
       "    <tr>\n",
       "      <th>4</th>\n",
       "      <td>Takamatsu</td>\n",
       "      <td>Opened: March 15</td>\n",
       "      <td>March 24 to April 1</td>\n",
       "      <td>End of Season</td>\n",
       "      <td>Kyushu, Shikoku and Chugoku</td>\n",
       "    </tr>\n",
       "  </tbody>\n",
       "</table>\n",
       "</div>"
      ],
      "text/plain": [
       "        City       Est_Opening     Est_Best_Viewing  Current_State  \\\n",
       "0    Fukuoka  Opened: March 12       March 20 to 28  End of Season   \n",
       "1   Kumamoto  Opened: March 17       March 22 to 28  End of Season   \n",
       "2  Hiroshima  Opened: March 11  March 24 to April 1  End of Season   \n",
       "3  Matsuyama  Opened: March 15       March 24 to 31  End of Season   \n",
       "4  Takamatsu  Opened: March 15  March 24 to April 1  End of Season   \n",
       "\n",
       "                        Region  \n",
       "0  Kyushu, Shikoku and Chugoku  \n",
       "1  Kyushu, Shikoku and Chugoku  \n",
       "2  Kyushu, Shikoku and Chugoku  \n",
       "3  Kyushu, Shikoku and Chugoku  \n",
       "4  Kyushu, Shikoku and Chugoku  "
      ]
     },
     "execution_count": 5,
     "metadata": {},
     "output_type": "execute_result"
    }
   ],
   "source": [
    "cherryForecast_data = pd.read_html(str(cherryForecast_soup))\n",
    "\n",
    "for itx, df in enumerate(cherryForecast_data):\n",
    "    df[\"Region\"] = cherryForecast_table_titles[itx]\n",
    "    \n",
    "cherryForecast_df = pd.concat(cherryForecast_data[1:]).rename(columns ={'Unnamed: 0': \"City\", 'Est. Opening*': 'Est_Opening','Est. Best Viewing*': 'Est_Best_Viewing', 'Current State': 'Current_State'})\n",
    "print(f'The number of cities with forecasts: {cherryForecast_df.shape[0]}.')\n",
    "cherryForecast_df.head()"
   ]
  },
  {
   "cell_type": "markdown",
   "metadata": {},
   "source": [
    "### Cherry Blossom Viewing Spots\n",
    "\n",
    "Suggestions for the best cherry blossom viewing spots can be found at [https://www.japan-guide.com/e/e2011_where.html](https://www.japan-guide.com/e/e2011_where.html).\n",
    "\n",
    "The information for the different Cherry Blossom Viewing Spots will be scraped using a BeautifulSoup object. The infomation that will be obtained for each spot will be:\n",
    "\n",
    "* City\n",
    "* Viewing Spot\n",
    "* Description\n",
    "* Ratings\n",
    "* Ratings Description"
   ]
  },
  {
   "cell_type": "code",
   "execution_count": 6,
   "metadata": {},
   "outputs": [
    {
     "name": "stdout",
     "output_type": "stream",
     "text": [
      "Number of \"Best\" viewing spots across Japan : 48.\n"
     ]
    },
    {
     "data": {
      "text/html": [
       "<div>\n",
       "<style scoped>\n",
       "    .dataframe tbody tr th:only-of-type {\n",
       "        vertical-align: middle;\n",
       "    }\n",
       "\n",
       "    .dataframe tbody tr th {\n",
       "        vertical-align: top;\n",
       "    }\n",
       "\n",
       "    .dataframe thead th {\n",
       "        text-align: right;\n",
       "    }\n",
       "</style>\n",
       "<table border=\"1\" class=\"dataframe\">\n",
       "  <thead>\n",
       "    <tr style=\"text-align: right;\">\n",
       "      <th></th>\n",
       "      <th>City</th>\n",
       "      <th>Viewing_Spot</th>\n",
       "      <th>Description</th>\n",
       "      <th>Rating</th>\n",
       "      <th>Rating_Description</th>\n",
       "    </tr>\n",
       "  </thead>\n",
       "  <tbody>\n",
       "    <tr>\n",
       "      <th>0</th>\n",
       "      <td>Tokyo</td>\n",
       "      <td>Shinjuku Gyoen</td>\n",
       "      <td>Shinjuku Gyoen features more than one thousand cherry trees of over a dozen varieties, including numerous early and late blooming trees. There are spacious lawn areas, and the atmosphere is calm and peaceful. Thanks to the early and late blooming trees, Shinjuku Gyoen is a good hanami destination for those who miss the main season by a week or two. Alcoholic drinks are prohibited.</td>\n",
       "      <td>3</td>\n",
       "      <td>Best of Japan</td>\n",
       "    </tr>\n",
       "    <tr>\n",
       "      <th>1</th>\n",
       "      <td>Tokyo</td>\n",
       "      <td>Ueno Park</td>\n",
       "      <td>One of Japan's most crowded, lively and popular spots for cherry blossom parties, Ueno Park features more than 1000 trees along the street leading towards the National Museum and around Shinobazu Pond. Ueno Park's blossoms typically open a couple of days ahead of the blossoms in many other spots in the city.</td>\n",
       "      <td>2</td>\n",
       "      <td>Highly Recommended</td>\n",
       "    </tr>\n",
       "    <tr>\n",
       "      <th>2</th>\n",
       "      <td>Tokyo</td>\n",
       "      <td>Chidorigafuchi</td>\n",
       "      <td>Hundreds of cherry trees decorate the moats of former Edo Castle around Kitanomaru Park, creating one of Tokyo's most outstanding cherry blossom sights. Boats are available for rent, but picnics are not allowed. Trees are lit up in the evenings. Many food stands can be found at nearby Yasukuni Shrine where another thousand cherry trees are planted.</td>\n",
       "      <td>2</td>\n",
       "      <td>Highly Recommended</td>\n",
       "    </tr>\n",
       "    <tr>\n",
       "      <th>3</th>\n",
       "      <td>Tokyo</td>\n",
       "      <td>Sumida Park</td>\n",
       "      <td>The park stretches for a few hundred meters along both sides of Sumida River with views of the Tokyo Sky Tree. Some food stands are available. Cherry blossom viewing can also be enjoyed from boats that cruise the river. Trees are lit up in the evenings.</td>\n",
       "      <td>1</td>\n",
       "      <td>Recommended</td>\n",
       "    </tr>\n",
       "    <tr>\n",
       "      <th>4</th>\n",
       "      <td>Yokohama</td>\n",
       "      <td>Sankeien Garden</td>\n",
       "      <td>Sankeien is a Japanese landscape garden with a central pond, various historical buildings moved there from across the country, and several hundred cherry trees.</td>\n",
       "      <td>1</td>\n",
       "      <td>Recommended</td>\n",
       "    </tr>\n",
       "  </tbody>\n",
       "</table>\n",
       "</div>"
      ],
      "text/plain": [
       "       City     Viewing_Spot  \\\n",
       "0     Tokyo   Shinjuku Gyoen   \n",
       "1     Tokyo        Ueno Park   \n",
       "2     Tokyo   Chidorigafuchi   \n",
       "3     Tokyo      Sumida Park   \n",
       "4  Yokohama  Sankeien Garden   \n",
       "\n",
       "                                                                                                                                                                                                                                                                                                                                                                                       Description  \\\n",
       "0  Shinjuku Gyoen features more than one thousand cherry trees of over a dozen varieties, including numerous early and late blooming trees. There are spacious lawn areas, and the atmosphere is calm and peaceful. Thanks to the early and late blooming trees, Shinjuku Gyoen is a good hanami destination for those who miss the main season by a week or two. Alcoholic drinks are prohibited.   \n",
       "1                                                                            One of Japan's most crowded, lively and popular spots for cherry blossom parties, Ueno Park features more than 1000 trees along the street leading towards the National Museum and around Shinobazu Pond. Ueno Park's blossoms typically open a couple of days ahead of the blossoms in many other spots in the city.   \n",
       "2                                   Hundreds of cherry trees decorate the moats of former Edo Castle around Kitanomaru Park, creating one of Tokyo's most outstanding cherry blossom sights. Boats are available for rent, but picnics are not allowed. Trees are lit up in the evenings. Many food stands can be found at nearby Yasukuni Shrine where another thousand cherry trees are planted.   \n",
       "3                                                                                                                                    The park stretches for a few hundred meters along both sides of Sumida River with views of the Tokyo Sky Tree. Some food stands are available. Cherry blossom viewing can also be enjoyed from boats that cruise the river. Trees are lit up in the evenings.   \n",
       "4                                                                                                                                                                                                                                 Sankeien is a Japanese landscape garden with a central pond, various historical buildings moved there from across the country, and several hundred cherry trees.   \n",
       "\n",
       "  Rating  Rating_Description  \n",
       "0      3       Best of Japan  \n",
       "1      2  Highly Recommended  \n",
       "2      2  Highly Recommended  \n",
       "3      1         Recommended  \n",
       "4      1         Recommended  "
      ]
     },
     "execution_count": 6,
     "metadata": {},
     "output_type": "execute_result"
    }
   ],
   "source": [
    "import re\n",
    "\n",
    "viewing_soup = get_html_soup(\"https://www.japan-guide.com/e/e2011_where.html\")\n",
    "viewing_cities = [city.text for city in viewing_soup.select('h3')]\n",
    "viewing_spots = []\n",
    "\n",
    "for city, section in zip(viewing_cities, viewing_soup.select('section.spot_list')):\n",
    "    spot_descriptions = iter(section.select('.spot_list__spot__desc'))\n",
    "    for spot in section.select('.spot_list__spot__name'):\n",
    "        cell = {}\n",
    "        cell['City'] = city\n",
    "        cell['Viewing_Spot'] = re.sub(r'[^\\w\\s]+', '', spot.text) # removes all dots from end of string\n",
    "        cell['Description'] = next(spot_descriptions).text.replace('\\n','').replace('\\r','')\n",
    "        if spot.find('span', class_='dot_rating has-tooltip'):\n",
    "            cell['Rating'] = spot.find('span', class_='dot_rating has-tooltip')['data-dots']\n",
    "            cell['Rating_Description'] = spot.find('span', class_='dot_rating has-tooltip')['data-tooltip-label']\n",
    "        else:\n",
    "            cell['Rating'] = ''\n",
    "            cell['Rating_Description'] = 'No Rating'\n",
    "        viewing_spots.append(cell)\n",
    "        \n",
    "viewingSpot_df = pd.DataFrame(viewing_spots)\n",
    "print(f'Number of \"Best\" viewing spots across Japan : {viewingSpot_df.shape[0]}.')\n",
    "viewingSpot_df.head()"
   ]
  },
  {
   "cell_type": "markdown",
   "metadata": {},
   "source": [
    "#### Obtaining coordinates for Viewing Spots\n",
    "\n",
    "We will use reverse geocoding from Google to obtain the coordinates for each of the viewing spots to determine the prefecture thus region each of the viewing spots are within. The coordinates will be saved to a local csv file to keep from repeated calls to Google Api."
   ]
  },
  {
   "cell_type": "code",
   "execution_count": 7,
   "metadata": {},
   "outputs": [
    {
     "data": {
      "text/html": [
       "<div>\n",
       "<style scoped>\n",
       "    .dataframe tbody tr th:only-of-type {\n",
       "        vertical-align: middle;\n",
       "    }\n",
       "\n",
       "    .dataframe tbody tr th {\n",
       "        vertical-align: top;\n",
       "    }\n",
       "\n",
       "    .dataframe thead th {\n",
       "        text-align: right;\n",
       "    }\n",
       "</style>\n",
       "<table border=\"1\" class=\"dataframe\">\n",
       "  <thead>\n",
       "    <tr style=\"text-align: right;\">\n",
       "      <th></th>\n",
       "      <th>Viewing_Spot</th>\n",
       "      <th>Latitude</th>\n",
       "      <th>Longitude</th>\n",
       "    </tr>\n",
       "  </thead>\n",
       "  <tbody>\n",
       "    <tr>\n",
       "      <th>0</th>\n",
       "      <td>Shinjuku Gyoen</td>\n",
       "      <td>35.685176</td>\n",
       "      <td>139.710052</td>\n",
       "    </tr>\n",
       "    <tr>\n",
       "      <th>1</th>\n",
       "      <td>Ueno Park</td>\n",
       "      <td>35.715480</td>\n",
       "      <td>139.774145</td>\n",
       "    </tr>\n",
       "    <tr>\n",
       "      <th>2</th>\n",
       "      <td>Chidorigafuchi</td>\n",
       "      <td>35.690159</td>\n",
       "      <td>139.748540</td>\n",
       "    </tr>\n",
       "    <tr>\n",
       "      <th>3</th>\n",
       "      <td>Sumida Park</td>\n",
       "      <td>35.712487</td>\n",
       "      <td>139.803965</td>\n",
       "    </tr>\n",
       "    <tr>\n",
       "      <th>4</th>\n",
       "      <td>Sankeien Garden</td>\n",
       "      <td>35.417051</td>\n",
       "      <td>139.658827</td>\n",
       "    </tr>\n",
       "  </tbody>\n",
       "</table>\n",
       "</div>"
      ],
      "text/plain": [
       "      Viewing_Spot   Latitude   Longitude\n",
       "0   Shinjuku Gyoen  35.685176  139.710052\n",
       "1        Ueno Park  35.715480  139.774145\n",
       "2   Chidorigafuchi  35.690159  139.748540\n",
       "3      Sumida Park  35.712487  139.803965\n",
       "4  Sankeien Garden  35.417051  139.658827"
      ]
     },
     "execution_count": 7,
     "metadata": {},
     "output_type": "execute_result"
    }
   ],
   "source": [
    "import csv\n",
    "import creds\n",
    "import numpy as np\n",
    "\n",
    "csvName = 'viewingspots_coords.csv'\n",
    "def get_coords(name, details):\n",
    "    name = f'{name}, Japan'\n",
    "    inital_call = f'Making call to googleapi for {name}....'\n",
    "    url = f'https://maps.googleapis.com/maps/api/place/findplacefromtext/json?key={creds.GoogleKey}&input={name}&inputtype=textquery&fields={details}'\n",
    "    response = requests.get(url).json()\n",
    "    if (response['status'] == 'OK'):\n",
    "        print(f'{inital_call}Valid location found...')\n",
    "        lat = response['candidates'][0]['geometry']['location']['lat']\n",
    "        lon = response['candidates'][0]['geometry']['location']['lng']\n",
    "    else:\n",
    "        name = f'{name}, Japan'\n",
    "        print(f'{inital_call} No valid location found...Trying call with {name}')\n",
    "        url = f'https://maps.googleapis.com/maps/api/place/findplacefromtext/json?key={creds.GoogleKey}&input={name}&inputtype=textquery&fields={details}'\n",
    "        response = requests.get(url).json()\n",
    "        if (response['status'] == 'OK'):\n",
    "            print(f'-----{name} Valid location found...')\n",
    "            lat = response['candidates'][0]['geometry']['location']['lat']\n",
    "            lon = response['candidates'][0]['geometry']['location']['lng']\n",
    "    return lat,lon\n",
    "\n",
    "if not os.path.exists(csvName): # checks to see if local csv with coordinates is already available in local directory\n",
    "    return_details = 'geometry'\n",
    "    coordinates_list = []\n",
    "    for viewingSpot in viewingSpot_df['Viewing_Spot']:\n",
    "        lat, lon = get_coords(viewingSpot, return_details)\n",
    "        coordinates_list.append([viewingSpot, lat, lon])\n",
    "        \n",
    "    cols = ['Viewing_Spot','Latitude','Longitude']    \n",
    "    viewingSpot_coords = pd.DataFrame(coordinates_list,columns = cols)\n",
    "    \n",
    "    # saves the coordinates to local csvfile to stop future calls to Google\n",
    "    viewingSpot_coords.to_csv(csvName,index=False)\n",
    "    \n",
    "viewingSpot_coords = pd.read_csv(csvName)\n",
    "viewingSpot_coords.head()"
   ]
  },
  {
   "cell_type": "markdown",
   "metadata": {},
   "source": [
    "#### Finding the prefecture and region for each of the locations within `viewingSpot_df`. \n",
    "\n",
    "We will now use the coordinates to find which prefecture and region each of the viewing spots are within. This will be accomplished with a geojson file found [here](https://dl.dropboxusercontent.com/s/luj2iy5przp90k5/jp_prefs.geojson) as well as a table obtain from [wikipedia](https://simple.wikipedia.org/wiki/Prefectures_of_Japan) which list each prefecture with corresponding region. Will need to strip all accents from the table entries from wikipedia to associate prefectures and regions with viewing spots. Following function will accomplish this."
   ]
  },
  {
   "cell_type": "code",
   "execution_count": 8,
   "metadata": {},
   "outputs": [],
   "source": [
    "def strip_accents(text_list):\n",
    "    '''\n",
    "    Looks through provided list to remove any accents and non alpha characters\n",
    "    '''\n",
    "    import unicodedata\n",
    "    lst = []\n",
    "    for itext, txt in enumerate(text_list):\n",
    "        try:\n",
    "            text = unicode(txt, 'utf-8')\n",
    "        except NameError: # unicode is a default on python 3 \n",
    "            pass\n",
    "\n",
    "        text = unicodedata.normalize('NFD', txt)\\\n",
    "               .encode('ascii', 'ignore')\\\n",
    "               .decode(\"utf-8\")\n",
    "        \n",
    "        text = re.sub(r'[\\W0-9]+','', text) # removes all non letter characters\n",
    "        lst.append(text)\n",
    "    \n",
    "    return lst"
   ]
  },
  {
   "cell_type": "markdown",
   "metadata": {},
   "source": [
    "The next step will be to pull in the table from wikipedia with the prefecture and region data of Japan. The data is cleaned and placed into a dict, `japan_dict`."
   ]
  },
  {
   "cell_type": "code",
   "execution_count": 9,
   "metadata": {},
   "outputs": [],
   "source": [
    "japan_pref=pd.read_html('https://simple.wikipedia.org/wiki/Prefectures_of_Japan')[1]\n",
    "japan_pref=japan_pref[['Prefecture','Region']]\n",
    "pref = strip_accents(japan_pref['Prefecture'])\n",
    "region = strip_accents(japan_pref['Region'])\n",
    "\n",
    "japan_dict = dict(zip(pref,region))"
   ]
  },
  {
   "cell_type": "markdown",
   "metadata": {},
   "source": [
    "Using geospatial information obtained from [here](https://dl.dropboxusercontent.com/s/luj2iy5przp90k5/jp_prefs.geojson) and the coordinates of each of the viewing spots, the prefecture and region for each viewing spot witll be obtained.  The coordinates will be converted into a `Point` object,and placed within `viewingSpot_coords` (now a geopandas dataframe). The `Point` objects will be used to find the corresponding prefecture from the geopandas dataframe of the geojson file, `pref_gdf`.\n",
    "\n",
    "Finally, the `viewingSpot_df` will be updated to now have columns for Prefecture, Region, Latitude, and Longitude for each of the locations in the dataframe."
   ]
  },
  {
   "cell_type": "code",
   "execution_count": 10,
   "metadata": {},
   "outputs": [
    {
     "name": "stdout",
     "output_type": "stream",
     "text": [
      "No prefecture or region data found for:\n",
      "Viewing_Spot              Hiroshima Peace Park\n",
      "Latitude                             34.392586\n",
      "Longitude                           132.452306\n",
      "geometry        POINT (132.4523059 34.3925863)\n",
      "Name: 33, dtype: object\n",
      "\n"
     ]
    },
    {
     "data": {
      "text/html": [
       "<div>\n",
       "<style scoped>\n",
       "    .dataframe tbody tr th:only-of-type {\n",
       "        vertical-align: middle;\n",
       "    }\n",
       "\n",
       "    .dataframe tbody tr th {\n",
       "        vertical-align: top;\n",
       "    }\n",
       "\n",
       "    .dataframe thead th {\n",
       "        text-align: right;\n",
       "    }\n",
       "</style>\n",
       "<table border=\"1\" class=\"dataframe\">\n",
       "  <thead>\n",
       "    <tr style=\"text-align: right;\">\n",
       "      <th></th>\n",
       "      <th>Viewing_Spot</th>\n",
       "      <th>City</th>\n",
       "      <th>Prefecture</th>\n",
       "      <th>Region</th>\n",
       "      <th>Latitude</th>\n",
       "      <th>Longitude</th>\n",
       "      <th>Description</th>\n",
       "      <th>Rating</th>\n",
       "      <th>Rating_Description</th>\n",
       "    </tr>\n",
       "  </thead>\n",
       "  <tbody>\n",
       "    <tr>\n",
       "      <th>0</th>\n",
       "      <td>Shinjuku Gyoen</td>\n",
       "      <td>Tokyo</td>\n",
       "      <td>Tokyo</td>\n",
       "      <td>Kanto</td>\n",
       "      <td>35.685176</td>\n",
       "      <td>139.710052</td>\n",
       "      <td>Shinjuku Gyoen features more than one thousand cherry trees of over a dozen varieties, including numerous early and late blooming trees. There are spacious lawn areas, and the atmosphere is calm and peaceful. Thanks to the early and late blooming trees, Shinjuku Gyoen is a good hanami destination for those who miss the main season by a week or two. Alcoholic drinks are prohibited.</td>\n",
       "      <td>3</td>\n",
       "      <td>Best of Japan</td>\n",
       "    </tr>\n",
       "    <tr>\n",
       "      <th>1</th>\n",
       "      <td>Ueno Park</td>\n",
       "      <td>Tokyo</td>\n",
       "      <td>Tokyo</td>\n",
       "      <td>Kanto</td>\n",
       "      <td>35.715480</td>\n",
       "      <td>139.774145</td>\n",
       "      <td>One of Japan's most crowded, lively and popular spots for cherry blossom parties, Ueno Park features more than 1000 trees along the street leading towards the National Museum and around Shinobazu Pond. Ueno Park's blossoms typically open a couple of days ahead of the blossoms in many other spots in the city.</td>\n",
       "      <td>2</td>\n",
       "      <td>Highly Recommended</td>\n",
       "    </tr>\n",
       "    <tr>\n",
       "      <th>2</th>\n",
       "      <td>Chidorigafuchi</td>\n",
       "      <td>Tokyo</td>\n",
       "      <td>Tokyo</td>\n",
       "      <td>Kanto</td>\n",
       "      <td>35.690159</td>\n",
       "      <td>139.748540</td>\n",
       "      <td>Hundreds of cherry trees decorate the moats of former Edo Castle around Kitanomaru Park, creating one of Tokyo's most outstanding cherry blossom sights. Boats are available for rent, but picnics are not allowed. Trees are lit up in the evenings. Many food stands can be found at nearby Yasukuni Shrine where another thousand cherry trees are planted.</td>\n",
       "      <td>2</td>\n",
       "      <td>Highly Recommended</td>\n",
       "    </tr>\n",
       "    <tr>\n",
       "      <th>3</th>\n",
       "      <td>Sumida Park</td>\n",
       "      <td>Tokyo</td>\n",
       "      <td>Tokyo</td>\n",
       "      <td>Kanto</td>\n",
       "      <td>35.712487</td>\n",
       "      <td>139.803965</td>\n",
       "      <td>The park stretches for a few hundred meters along both sides of Sumida River with views of the Tokyo Sky Tree. Some food stands are available. Cherry blossom viewing can also be enjoyed from boats that cruise the river. Trees are lit up in the evenings.</td>\n",
       "      <td>1</td>\n",
       "      <td>Recommended</td>\n",
       "    </tr>\n",
       "    <tr>\n",
       "      <th>4</th>\n",
       "      <td>Sankeien Garden</td>\n",
       "      <td>Yokohama</td>\n",
       "      <td>Kanagawa</td>\n",
       "      <td>Kanto</td>\n",
       "      <td>35.417051</td>\n",
       "      <td>139.658827</td>\n",
       "      <td>Sankeien is a Japanese landscape garden with a central pond, various historical buildings moved there from across the country, and several hundred cherry trees.</td>\n",
       "      <td>1</td>\n",
       "      <td>Recommended</td>\n",
       "    </tr>\n",
       "  </tbody>\n",
       "</table>\n",
       "</div>"
      ],
      "text/plain": [
       "      Viewing_Spot      City Prefecture Region   Latitude   Longitude  \\\n",
       "0   Shinjuku Gyoen     Tokyo      Tokyo  Kanto  35.685176  139.710052   \n",
       "1        Ueno Park     Tokyo      Tokyo  Kanto  35.715480  139.774145   \n",
       "2   Chidorigafuchi     Tokyo      Tokyo  Kanto  35.690159  139.748540   \n",
       "3      Sumida Park     Tokyo      Tokyo  Kanto  35.712487  139.803965   \n",
       "4  Sankeien Garden  Yokohama   Kanagawa  Kanto  35.417051  139.658827   \n",
       "\n",
       "                                                                                                                                                                                                                                                                                                                                                                                       Description  \\\n",
       "0  Shinjuku Gyoen features more than one thousand cherry trees of over a dozen varieties, including numerous early and late blooming trees. There are spacious lawn areas, and the atmosphere is calm and peaceful. Thanks to the early and late blooming trees, Shinjuku Gyoen is a good hanami destination for those who miss the main season by a week or two. Alcoholic drinks are prohibited.   \n",
       "1                                                                            One of Japan's most crowded, lively and popular spots for cherry blossom parties, Ueno Park features more than 1000 trees along the street leading towards the National Museum and around Shinobazu Pond. Ueno Park's blossoms typically open a couple of days ahead of the blossoms in many other spots in the city.   \n",
       "2                                   Hundreds of cherry trees decorate the moats of former Edo Castle around Kitanomaru Park, creating one of Tokyo's most outstanding cherry blossom sights. Boats are available for rent, but picnics are not allowed. Trees are lit up in the evenings. Many food stands can be found at nearby Yasukuni Shrine where another thousand cherry trees are planted.   \n",
       "3                                                                                                                                    The park stretches for a few hundred meters along both sides of Sumida River with views of the Tokyo Sky Tree. Some food stands are available. Cherry blossom viewing can also be enjoyed from boats that cruise the river. Trees are lit up in the evenings.   \n",
       "4                                                                                                                                                                                                                                 Sankeien is a Japanese landscape garden with a central pond, various historical buildings moved there from across the country, and several hundred cherry trees.   \n",
       "\n",
       "  Rating  Rating_Description  \n",
       "0      3       Best of Japan  \n",
       "1      2  Highly Recommended  \n",
       "2      2  Highly Recommended  \n",
       "3      1         Recommended  \n",
       "4      1         Recommended  "
      ]
     },
     "execution_count": 10,
     "metadata": {},
     "output_type": "execute_result"
    }
   ],
   "source": [
    "import geopandas as gpd\n",
    "from shapely.geometry import Point\n",
    "\n",
    "pref_gdf = gpd.read_file('jp_prefs.geojson')\n",
    "geometry = gpd.points_from_xy(viewingSpot_coords.Longitude, viewingSpot_coords.Latitude)\n",
    "viewingSpot_coords = gpd.GeoDataFrame(viewingSpot_coords, geometry=geometry, crs= 4326) \n",
    "pref_col = []\n",
    "region_col = []\n",
    "\n",
    "for ispot, row in viewingSpot_coords.iterrows():\n",
    "    point = row.geometry\n",
    "    try:\n",
    "        row_pref = pref_gdf[pref_gdf.contains(point)].name.tolist()[0]\n",
    "        pref_col.append(row_pref)\n",
    "        region_col.append(japan_dict[row_pref])\n",
    "    except:\n",
    "        print(f'No prefecture or region data found for:\\n{row}\\n')\n",
    "        row_pref = np.nan\n",
    "        pref_col.append(np.nan)\n",
    "        region_col.append(np.nan)\n",
    "\n",
    "viewingSpot_df['Prefecture'] = pref_col\n",
    "viewingSpot_df['Region'] = region_col\n",
    "viewingSpot_df['Latitude'] = viewingSpot_coords['Latitude']\n",
    "viewingSpot_df['Longitude'] = viewingSpot_coords['Longitude']\n",
    "\n",
    "col_order = ['Viewing_Spot', 'City', 'Prefecture','Region', 'Latitude','Longitude','Description','Rating','Rating_Description']\n",
    "viewingSpot_df = viewingSpot_df[col_order]\n",
    "\n",
    "viewingSpot_df.head()"
   ]
  },
  {
   "cell_type": "markdown",
   "metadata": {},
   "source": [
    "Hiroshima Peace Park was not found to be within any of the prefectures Japan using the geojson file. But it is evident that it is located within the Hiroshima Prefecture. We can update the row for Hiroshima Peace Park (index = 33) with the correct prefecture and region (using `japan_dict`) to have a complete dataset."
   ]
  },
  {
   "cell_type": "code",
   "execution_count": 11,
   "metadata": {},
   "outputs": [],
   "source": [
    "viewingSpot_df.loc[33, ['Prefecture', 'Region']] = ['Hiroshima', japan_dict['Hiroshima']]"
   ]
  },
  {
   "cell_type": "markdown",
   "metadata": {},
   "source": [
    "Now, we have three datasets that will be used during the Analysis section: `averageBlooming_df`, `cherryForecast_df`, and `viewingSpot_df`. Foursquare data will be obtained in the Analysis section as well."
   ]
  },
  {
   "cell_type": "markdown",
   "metadata": {},
   "source": [
    "## Methodology <a name=\"methodology\"></a>"
   ]
  },
  {
   "cell_type": "markdown",
   "metadata": {},
   "source": [
    "In this project, we hope to find a city or cities that will be able satisfy a persons needs of enjoying the beauty of cherry blossoms and a bowl of delicious Ramen while being able to hop on a train or a ferry then a train. \n",
    "\n",
    "The first step was to obtain the data associated with cherry blossoms blooming forecast, recommended Hanami spots, and average blooming dates.\n",
    "\n",
    "The next step will be to \"disregard\" cities that has already passed its the peak of cherry blossoms blooming. Meaning we will want to find cities [`potentialCities`] which have yet to bloom.\n",
    "\n",
    "The next step will be to identify if there any recommended Hanami spots within the `viewingSpot_df` for any of the cities within `potentialCities`.\n",
    "\n",
    "The following step will be to use **Foursquare** to find the proxmity of both Ramen shops and train stations within all of the cities in `potentialCities`.\n",
    "\n",
    "Finally, ...\n",
    "\n"
   ]
  },
  {
   "cell_type": "code",
   "execution_count": null,
   "metadata": {},
   "outputs": [],
   "source": [
    "# import matplotlib.pyplot as plt\n",
    "# data = pref_gdf\n",
    "# fig, axes = plt.subplots(figsize=(10,8))\n",
    "# data.plot(ax = axes, edgecolor = \"black\")\n",
    "# gdf.plot(ax=axes, marker='o', color='r', markersize=5)"
   ]
  },
  {
   "cell_type": "code",
   "execution_count": null,
   "metadata": {},
   "outputs": [],
   "source": []
  },
  {
   "cell_type": "code",
   "execution_count": null,
   "metadata": {},
   "outputs": [],
   "source": []
  },
  {
   "cell_type": "code",
   "execution_count": null,
   "metadata": {},
   "outputs": [],
   "source": [
    "import folium # map rendering library\n",
    "from geopy.geocoders import Nominatim # convert an address into latitude and longitude values\n",
    "\n",
    "address = 'Tokyo, Japan'\n",
    "geolocator = Nominatim(user_agent=\"on_explorer\")\n",
    "location = geolocator.geocode(address)\n",
    "latitude = location.latitude\n",
    "longitude = location.longitude\n",
    "print('The geograpical coordinate of Toronto are {}, {}.'.format(latitude, longitude))"
   ]
  },
  {
   "cell_type": "code",
   "execution_count": null,
   "metadata": {},
   "outputs": [],
   "source": [
    "# create map of Downtown Toronto using latitude and longitude values\n",
    "map = folium.Map(location=[latitude, longitude], zoom_start=15)\n",
    "count=0\n",
    "# add markers to map \n",
    "for lat, lng, label in zip(viewingSpot_coords['Latitude'], viewingSpot_coords['Longitude'], viewingSpot_coords['Viewing_Spot']):\n",
    "    label = folium.Popup(label, parse_html=True)\n",
    "    folium.CircleMarker(\n",
    "        [lat, lng],\n",
    "        radius=5,\n",
    "        popup=label,\n",
    "        color='blue',\n",
    "        fill=True,\n",
    "        fill_color='#3186cc',\n",
    "        fill_opacity=0.7,\n",
    "        parse_html=False).add_to(map)  \n",
    "    count+=1\n",
    "print(\"Number of Neighborhood markers: {}\".format(count))\n",
    "map"
   ]
  },
  {
   "cell_type": "markdown",
   "metadata": {},
   "source": [
    "## Analysis  <a name=\"analysis\"></a>\n",
    "\n",
    "Lets begin by weeding out those cities which have passed peak in the Hanami season. The target time range is mid to late April to travel. The `cherryForecast_df` has a column which states the current state of the cherry blossoms within each of the cities. "
   ]
  },
  {
   "cell_type": "code",
   "execution_count": null,
   "metadata": {},
   "outputs": [],
   "source": [
    "print(f\"List of cherry blossoms blooming states: \\n {cherryForecast_df['Current_State'].unique()}\")"
   ]
  },
  {
   "cell_type": "markdown",
   "metadata": {},
   "source": [
    "Only will keep cities that are either are `Not Open Yet`. This is due to blossoms only lasting from one to two weeks and the target time range is mid to late April.\n",
    "\n",
    "This reveals that the northern regions of Japan, Tohoku and Hokkaido, will be of interest for for Hanami during mid to late April. This is expected due to the cherry blossom front traveling northward as the season progresses."
   ]
  },
  {
   "cell_type": "code",
   "execution_count": null,
   "metadata": {},
   "outputs": [],
   "source": [
    "potentialCities = cherryForecast_df.loc[cherryForecast_df['Current_State'] == 'Not Open Yet']\n",
    "potentialCities"
   ]
  },
  {
   "cell_type": "markdown",
   "metadata": {},
   "source": [
    "Now to find recommended viewing spots within either the Tohoku or Hokkaido regions."
   ]
  },
  {
   "cell_type": "markdown",
   "metadata": {},
   "source": [
    "Need to determine which of the recommended viewing spots are located in either the Tohoku or Hokkaido regions."
   ]
  },
  {
   "cell_type": "code",
   "execution_count": null,
   "metadata": {},
   "outputs": [],
   "source": []
  },
  {
   "cell_type": "markdown",
   "metadata": {},
   "source": [
    "## Results and Discussion  <a name=\"results and discussion\"></a>"
   ]
  },
  {
   "cell_type": "markdown",
   "metadata": {},
   "source": [
    "## Conclusion  <a name=\"conclusion\"></a>"
   ]
  },
  {
   "cell_type": "code",
   "execution_count": null,
   "metadata": {},
   "outputs": [],
   "source": []
  }
 ],
 "metadata": {
  "kernelspec": {
   "display_name": "Capstone",
   "language": "python",
   "name": "capstone"
  },
  "language_info": {
   "codemirror_mode": {
    "name": "ipython",
    "version": 3
   },
   "file_extension": ".py",
   "mimetype": "text/x-python",
   "name": "python",
   "nbconvert_exporter": "python",
   "pygments_lexer": "ipython3",
   "version": "3.9.2"
  }
 },
 "nbformat": 4,
 "nbformat_minor": 4
}
