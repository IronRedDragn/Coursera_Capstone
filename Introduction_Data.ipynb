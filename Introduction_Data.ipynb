{
 "cells": [
  {
   "cell_type": "markdown",
   "metadata": {},
   "source": [
    "## Introduction  <a name=\"introduction\"></a>"
   ]
  },
  {
   "cell_type": "markdown",
   "metadata": {},
   "source": [
    "Hanami (花見 , \"flower viewing\") is the traditional custom of viewing and enjoying the beauty of cherry blossoms and springtime in Japan. To enjoy Hanami, one can admire from a distance in which the cherry blossoms have been described as appearing as beautiful clouds, have a picnic under the blooming trees, or take a nice stroll in a park after enjoying a bowl of Ramen. \n",
    "\n",
    "While the exact origins of ramen noodles is up to debate (Japan or China origin), what is not up for debate is how Ramen shops across Japan have really made Ramen their own. As the name suggest, Ramen shops specialize in ramen dishes. Ramen in simple terms are wheat-flour noodles served in broth. But Ramen is anything but simple. With over more than 10,000 ramen shops in Japan[@1], each shop provides a different take on the dish of Ramen. \n",
    "\n",
    "In this project, we will try to find the best city in Japan in which to enjoy both Hanami and Ramen during **the month of April**. Best in this instance, refers to how easily a person can travel to the city (i.e **promixity to train station or ferry**), **Hanami spots**, and **Ramen shops**."
   ]
  },
  {
   "cell_type": "markdown",
   "metadata": {},
   "source": [
    "## Data\n",
    "\n",
    "With the criteria mention in the Introduction, factors that will influence our decision are:\n",
    "* Timing of cherry blossoming in the city\n",
    "* Proximity to a train station or ferry\n",
    "* Cherry Blossom viewing spots (Hanami) spots, if any\n",
    "* Ramen shops located within a city\n",
    "\n",
    "Following data sources will be needed to extract/generate the required information:\n",
    "* Cherry Blossoms Forecast Data and Average Cherry Blossoms blooming dates using data gathered from- [japan-guide.com/sakura](japan-guide.com/sakura)\n",
    "* Cherry Blossom viewing Spots using data gathered from [https://www.japan-guide.com/e/e2011_where.html](https://www.japan-guide.com/e/e2011_where.html)\n",
    "* Train stations or ferry location obtain using the **Foursquare API**\n",
    "* Number of Ramen shops and their location in every city obtained using **Foursquare API**\n",
    "\n",
    "With the data collected, we hope to find a city or cities that will be able satisfy a persons needs of enjoying the beauty of cherry blossoms and a bowl of delicious Ramen while being able to hop on a train or a ferry then a train."
   ]
  },
  {
   "cell_type": "code",
   "execution_count": null,
   "metadata": {},
   "outputs": [],
   "source": []
  }
 ],
 "metadata": {
  "kernelspec": {
   "display_name": "Python 3",
   "language": "python",
   "name": "python3"
  },
  "language_info": {
   "codemirror_mode": {
    "name": "ipython",
    "version": 3
   },
   "file_extension": ".py",
   "mimetype": "text/x-python",
   "name": "python",
   "nbconvert_exporter": "python",
   "pygments_lexer": "ipython3",
   "version": "3.7.7"
  }
 },
 "nbformat": 4,
 "nbformat_minor": 4
}
